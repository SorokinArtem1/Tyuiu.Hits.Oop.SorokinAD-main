{
 "cells": [
  {
   "cell_type": "markdown",
   "metadata": {},
   "source": [
    "<h1 style=\"color:DodgerBlue\">Индивидальный проект</h1>"
   ]
  },
  {
   "cell_type": "markdown",
   "metadata": {},
   "source": [
    "<h2 style=\"color:DodgerBlue\">Название проекта:</h2>\n",
    "\n",
    "----\n",
    "\n",
    "### Вариант задания \n"
   ]
  },
  {
   "cell_type": "markdown",
   "metadata": {},
   "source": [
    "<h2 style=\"color:DodgerBlue\">Описание проекта:</h2>\n",
    "\n",
    "----\n",
    "\n",
    "[ваш текст]\n",
    "\n",
    "#### Дополнительное задание\n",
    "Добавьте к сущестующим классам конструктора классов с использованием гетторов и сетторов и реализуйте взаимодействие объектов между собой"
   ]
  },
  {
   "cell_type": "markdown",
   "metadata": {},
   "source": [
    "<h2 style=\"color:DodgerBlue\">Реализация:</h2>\n",
    "\n",
    "----"
   ]
  },
  {
   "cell_type": "code",
   "execution_count": 1,
   "metadata": {
    "dotnet_interactive": {
     "language": "csharp"
    },
    "polyglot_notebook": {
     "kernelName": "csharp"
    }
   },
   "outputs": [
    {
     "name": "stdout",
     "output_type": "stream",
     "text": [
      "ID опции доставки: 1; Название опции доставки: Стандартная доставка; Стоимость доставки: 300 рублей.\n",
      "Среднее время доставки: 5 дней.\n",
      "ID опции доставки: 2; Название опции доставки: Экспресс-доставка; Стоимость доставки: 500 рублей.\n",
      "Экспресс-доставка: стоимость доставки = 600 рублей.\n",
      "Минимальное время доставки: 2 дней.\n",
      "ID опции доставки: 3; Название: Самовывоз; Стоимость: 0 рублей; Адрес пункта самовывоза: ул. Главная, 123.\n",
      "Доставка займет от 2 до 5 дней.\n",
      "\n",
      "Симуляция взаимодействия:\n",
      "Клиент выбирает экспресс-доставку.\n",
      "Экспресс-доставка: стоимость доставки = 700 рублей.\n",
      "Клиент решает забрать посылку самостоятельно.\n",
      "ID опции доставки: 3; Название: Самовывоз; Стоимость: 0 рублей; Адрес пункта самовывоза: ул. Главная, 123.\n"
     ]
    }
   ],
   "source": [
    "using System;\n",
    "class ShippingOption\n",
    "{\n",
    "    public int DeliveryOptionId { get; set; }\n",
    "    public string DeliveryOptionName { get; set; }\n",
    "    private int _cost;\n",
    "    public int Cost \n",
    "    { \n",
    "    get{ return _cost; } \n",
    "    set{ if (value >= 0)\n",
    "    {\n",
    "        _cost = value;\n",
    "    }\n",
    "    else\n",
    "    {\n",
    "        throw new ArgumentOutOfRangeException(\"Скорость не может быть отрицательной!\");\n",
    "    }\n",
    "    }\n",
    "    }\n",
    "\n",
    "    public ShippingOption(int deliveryOptionId, string deliveryOptionName, int cost)\n",
    "    {\n",
    "        DeliveryOptionId = deliveryOptionId;\n",
    "        DeliveryOptionName = deliveryOptionName;\n",
    "        Cost = cost;\n",
    "    }\n",
    "    public virtual void CalculateCost()\n",
    "    {\n",
    "        Console.WriteLine($\"Стоимость доставки = {Cost} рублей.\");\n",
    "\n",
    "\n",
    "    }\n",
    "\n",
    "    public virtual void EstimateDeliveryTime()\n",
    "    {\n",
    "        Console.WriteLine($\"Производится оценка времени доставки...\");\n",
    "\n",
    "    }\n",
    "\n",
    "    public virtual void GetDeliveryDetails()\n",
    "    {\n",
    "        Console.WriteLine($\"ID опции доставки: {DeliveryOptionId}; Название опции доставки: {DeliveryOptionName}; Стоимость доставки: {Cost} рублей.\");\n",
    "    }\n",
    "}\n",
    "\n",
    "class StandardDelivery : ShippingOption\n",
    "{\n",
    "    public int AverageDeliveryTime { get; set; }\n",
    "\n",
    "    public StandardDelivery(int deliveryOptionId, string deliveryOptionName, int cost, int averageDeliveryTime)\n",
    "        : base(deliveryOptionId, deliveryOptionName, cost)\n",
    "    {\n",
    "        AverageDeliveryTime = averageDeliveryTime;\n",
    "    }\n",
    "\n",
    "    public override void EstimateDeliveryTime()\n",
    "    {\n",
    "        Console.WriteLine($\"Среднее время доставки: {AverageDeliveryTime} дней.\");\n",
    "    }\n",
    "}\n",
    "\n",
    "class ExpressDelivery : ShippingOption\n",
    "{\n",
    "    public int MinDeliveryTime { get; set; }\n",
    "\n",
    "\n",
    "    public ExpressDelivery(int deliveryOptionId, string deliveryOptionName, int cost, int minDeliveryTime)\n",
    "        : base(deliveryOptionId, deliveryOptionName, cost)\n",
    "    {\n",
    "        MinDeliveryTime = minDeliveryTime;\n",
    "    }\n",
    "\n",
    "\n",
    "    public override void CalculateCost()\n",
    "    {\n",
    "        Cost += 100;\n",
    "\n",
    "        Console.WriteLine($\"Экспресс-доставка: стоимость доставки = {Cost} рублей.\");\n",
    "\n",
    "    }\n",
    "    public override void EstimateDeliveryTime()\n",
    "    {\n",
    "        Console.WriteLine($\"Минимальное время доставки: {MinDeliveryTime} дней.\");\n",
    "    }\n",
    "\n",
    "\n",
    "}\n",
    "\n",
    "class Pickup : ShippingOption\n",
    "{\n",
    "    public string PickupAddress { get; set; }\n",
    "\n",
    "    public Pickup(int deliveryOptionId, string deliveryOptionName, int cost, string pickupAddress)\n",
    "        : base(deliveryOptionId, deliveryOptionName, cost)\n",
    "    {\n",
    "        PickupAddress = pickupAddress;\n",
    "    }\n",
    "\n",
    "    public override void GetDeliveryDetails()\n",
    "    {\n",
    "        Console.WriteLine($\"ID опции доставки: {DeliveryOptionId}; Название: {DeliveryOptionName}; Стоимость: {Cost} рублей; Адрес пункта самовывоза: {PickupAddress}.\");\n",
    "    }\n",
    "\n",
    "    public override void EstimateDeliveryTime()\n",
    "    {\n",
    "        Console.WriteLine(\"Доставка займет от 2 до 5 дней.\");\n",
    "    }\n",
    "}\n",
    "\n",
    "        ShippingOption standardDelivery = new StandardDelivery(1, \"Стандартная доставка\", 300, 5);\n",
    "        ExpressDelivery expressDelivery = new ExpressDelivery(2, \"Экспресс-доставка\", 500, 2);\n",
    "        Pickup pickup = new Pickup(3, \"Самовывоз\", 0, \"ул. Главная, 123\");\n",
    "\n",
    "        // Отображение деталей для каждой опции\n",
    "        standardDelivery.GetDeliveryDetails();\n",
    "        standardDelivery.EstimateDeliveryTime();\n",
    "        \n",
    "        expressDelivery.GetDeliveryDetails();\n",
    "        expressDelivery.CalculateCost();\n",
    "        expressDelivery.EstimateDeliveryTime();\n",
    "\n",
    "        pickup.GetDeliveryDetails();\n",
    "        pickup.EstimateDeliveryTime();\n",
    "\n",
    "        // Взаимодействие между объектами\n",
    "        Console.WriteLine(\"\\nСимуляция взаимодействия:\");\n",
    "        Console.WriteLine(\"Клиент выбирает экспресс-доставку.\");\n",
    "        expressDelivery.CalculateCost();\n",
    "\n",
    "        Console.WriteLine(\"Клиент решает забрать посылку самостоятельно.\");\n",
    "        pickup.GetDeliveryDetails();"
   ]
  }
 ],
 "metadata": {
  "kernelspec": {
   "display_name": ".NET (C#)",
   "language": "C#",
   "name": ".net-csharp"
  },
  "polyglot_notebook": {
   "kernelInfo": {
    "defaultKernelName": "csharp",
    "items": [
     {
      "aliases": [],
      "languageName": "csharp",
      "name": "csharp"
     }
    ]
   }
  }
 },
 "nbformat": 4,
 "nbformat_minor": 2
}
