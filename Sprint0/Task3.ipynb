{
 "cells": [
  {
   "cell_type": "markdown",
   "metadata": {},
   "source": [
    "<h1 style=\"color:DodgerBlue\">Индивидальный проект</h1>"
   ]
  },
  {
   "cell_type": "markdown",
   "metadata": {},
   "source": [
    "<h2 style=\"color:DodgerBlue\">Название проекта:</h2>\n",
    "\n",
    "----\n",
    "\n",
    "### Вариант задания \n"
   ]
  },
  {
   "cell_type": "markdown",
   "metadata": {},
   "source": [
    "<h2 style=\"color:DodgerBlue\">Описание проекта:</h2>\n",
    "\n",
    "----\n",
    "\n",
    "[ваш текст]\n"
   ]
  },
  {
   "cell_type": "markdown",
   "metadata": {},
   "source": [
    "<h2 style=\"color:DodgerBlue\">Реализация:</h2>\n",
    "\n",
    "----"
   ]
  },
  {
   "cell_type": "code",
   "execution_count": 2,
   "metadata": {
    "dotnet_interactive": {
     "language": "csharp"
    },
    "polyglot_notebook": {
     "kernelName": "csharp"
    }
   },
   "outputs": [],
   "source": [
    "class ShippingOption\n",
    "{\n",
    "    public int DeliveryOptionId { get; set; }\n",
    "    public string DeliveryOptionName { get; set; }\n",
    "    public int Cost { get; set; }\n",
    "\n",
    "    public virtual void CalculateCost()\n",
    "    {\n",
    "        Console.WriteLine($\"Стоимость доставки = {Cost} рублей.\");\n",
    "\n",
    "\n",
    "    }\n",
    "\n",
    "    public virtual void EstimateDeliveryTime()\n",
    "    {\n",
    "        Console.WriteLine($\"Производится оценка времени доставки...\");\n",
    "\n",
    "    }\n",
    "\n",
    "    public virtual void GetDeliveryDetails()\n",
    "    {\n",
    "        Console.WriteLine($\"ID опции доставки: {DeliveryOptionId}; Название опции доставки: {DeliveryOptionName}; Стоимость доставки: {Cost} рублей.\");\n",
    "    }\n",
    "}\n",
    "\n",
    "class StandardDelivery : ShippingOption\n",
    "{\n",
    "    public int AverageDeliveryTime { get; set; }\n",
    "    public override void EstimateDeliveryTime()\n",
    "    {\n",
    "        Console.WriteLine($\"Среднее время доставки: {AverageDeliveryTime} дней.\");\n",
    "    }\n",
    "}\n",
    "\n",
    "class ExpressDelivery : ShippingOption\n",
    "{\n",
    "    public int MinDeliveryTime { get; set; }\n",
    "\n",
    "    public override void CalculateCost()\n",
    "    {\n",
    "        Cost += 100;\n",
    "\n",
    "        Console.WriteLine($\"Экспресс-доставка: стоимость доставки = {Cost} рублей.\");\n",
    "\n",
    "    }\n",
    "    public override void EstimateDeliveryTime()\n",
    "    {\n",
    "        Console.WriteLine($\"Минимальное время доставки: {MinDeliveryTime} дней.\");\n",
    "    }\n",
    "\n",
    "\n",
    "}\n",
    "\n",
    "class Pickup : ShippingOption\n",
    "{\n",
    "    public string PickupAddress { get; set; }\n",
    "    \n",
    "    public override void GetDeliveryDetails()\n",
    "    {  \n",
    "        Console.WriteLine($\"ID опции доставки: {DeliveryOptionId}; Название опции доставки: {DeliveryOptionName}; Стоимость доставки: {Cost} рублей; Адрес пункта самовывоза: {PickupAddress}.\");\n",
    "\n",
    "    }\n",
    "    public override void EstimateDeliveryTime()\n",
    "    {\n",
    "        Console.WriteLine($\"Доставка займет от 2 до 5 дней.\");\n",
    "    }\n",
    "}"
   ]
  }
 ],
 "metadata": {
  "kernelspec": {
   "display_name": ".NET (C#)",
   "language": "C#",
   "name": ".net-csharp"
  },
  "polyglot_notebook": {
   "kernelInfo": {
    "defaultKernelName": "csharp",
    "items": [
     {
      "aliases": [],
      "languageName": "csharp",
      "name": "csharp"
     }
    ]
   }
  }
 },
 "nbformat": 4,
 "nbformat_minor": 2
}
